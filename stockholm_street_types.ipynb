{
 "cells": [
  {
   "cell_type": "markdown",
   "id": "468cc89b-a6f7-42a0-a6d5-ee4234e8d7cd",
   "metadata": {},
   "source": [
    "# Stockholm street types\n",
    "\n",
    "This project is about creating a map that shows different types of streets: ways, roads, streets, etc. I was curious to see how streets types could be a proxy for the type of urban fabric in an area. Dense city centers are dominated by streets (\"gata\" in Swedish), suburban car-dominated sprawl is mostly filled with \"ways\" (\"väg\" in Swedish), and remote residential areas mainly have other types of streets like alleys and paths.\n",
    "\n",
    "Since the analysis is by no means sophisticated, my main goal was to learn how to extract and handle OpenStreetMap data using only Python. Why? It is of course possible to acquire OSM data using Overpass Turbo, but that is a manual task. If I would need to export data for a different city, or change the OSM query in some other way I would not want to go through all the manual steps again. It would be much easier if everything was managed through code. \n",
    "\n",
    "My initial research into Python libraries that enable OSM data export showed that one of the most common options is the OSMnx package. I followed this [blog post](https://levelup.gitconnected.com/working-with-openstreetmap-in-python-c49396d98ad4), which motivated me to finally sit down and understand how conda and virtual environments work. Let's go through the whole process step-by-step."
   ]
  },
  {
   "cell_type": "markdown",
   "id": "28a438fc-3c6a-4db2-a121-75fe88a24d83",
   "metadata": {},
   "source": [
    "## 1. Setup\n",
    "\n",
    "### 1.1. Installing Anaconda\n",
    "\n",
    "**Why**\n",
    "\n",
    "When I first started learning Python I was reluctant to installing Anaconda. It took a lot of space on my machine and I was not sure what the benefits were. But installing geo packages like geopandas or osmnx through pip proved to be very tricky. I kept getting all sorts of errors. After watching [this video](https://www.youtube.com/watch?v=0Hhqf8L-b_0) I realized that Anaconda could take away the headache of installing packages and managing all their dependencies. \n",
    "\n",
    "**How**\n",
    "\n",
    "Followed this [tutorial](https://www.youtube.com/watch?v=0Hhqf8L-b_0)"
   ]
  },
  {
   "cell_type": "markdown",
   "id": "905b127b-e718-4ffa-991d-de2037d8a7a5",
   "metadata": {},
   "source": [
    "### 1.2. Setting up a virtual environment\n",
    "\n",
    "**Why**\n",
    "\n",
    "Coming from R-world where all packages are installed in the same place and are accessable from any project, Python required a shift in perspective. This project helped me realise the benefits of virtual environments, where I can install the packages I need and a) they will not affect any other program, b) my project will not break even if I will use a newer version of Python or any of the packages in later projects. \n",
    "\n",
    "**How**\n",
    "- Open Terminal. By default Terminal will open with conda base environment activated.\n",
    "- To create a new environment, I used this command `conda create —name geo_env python=3.9`\n",
    "- Activate the new environment geo_env `conda activate geo_env`\n",
    "- Install geopandas. Simple `conda install geopandas` did not work, so I had to add the channel conda-forge where geopandas is avaiable with all its dependencies. These three commands come from [geopandas documentation](https://geopandas.org/en/stable/getting_started/install.html):\n",
    "    - `conda config --env --add channels conda-forge`\n",
    "    - `conda config --env --set channel_priority strict`\n",
    "    - `conda install python=3 geopandas`\n",
    "- Install osmnx `conda install osmnx`"
   ]
  },
  {
   "cell_type": "markdown",
   "id": "cfff6b26-2fa9-4902-9a70-225cb15a7d51",
   "metadata": {},
   "source": [
    "### 1.3. Using virtual environment in Jupyter\n",
    "\n",
    "**Why**\n",
    "\n",
    "I wanted to use Jupyter notebook for this project to better document my workflow and to be able to see the output of every code block, which is more difficult in code editors like VSCode or PyCharm. \n",
    "\n",
    "**How**\n",
    "\n",
    "To make my geo_env available on Jupyter, I followed this [blog post](https://janakiev.com/blog/jupyter-virtual-envs/). As it suggests:\n",
    "- Activate the virtual env\n",
    "- \"Next, install ipykernel which provides the IPython kernel for Jupyter\": `conda install ipykernel`\n",
    "- Next you can add your virtual environment to Jupyter by typing: `python -m ipykernel install --user --name=geo_env`\n",
    "- From Anaconda-Navigator launcg JupyterLab. geo_env will be avaiable there. \n",
    "- Now I could simply import the packages I needed.\n"
   ]
  },
  {
   "cell_type": "markdown",
   "id": "0f6f472c-4b25-42bc-bcd4-7c0e83ee361b",
   "metadata": {},
   "source": [
    "## 2. Getting OSM data\n",
    "\n",
    "To export data from OpenStreetMap I followed this [blog post by Juan Nathaniel](https://levelup.gitconnected.com/working-with-openstreetmap-in-python-c49396d98ad4), but changed the place variable to Stockholm and added multiple highway tags. \n",
    " "
   ]
  },
  {
   "cell_type": "code",
   "execution_count": 68,
   "id": "6e6b2f03-87c4-4b8d-87c6-0eb3d7319c32",
   "metadata": {},
   "outputs": [],
   "source": [
    "import osmnx"
   ]
  },
  {
   "cell_type": "code",
   "execution_count": 49,
   "id": "1d13ed60-654d-4f1e-9a1c-800648cdb990",
   "metadata": {},
   "outputs": [
    {
     "name": "stderr",
     "output_type": "stream",
     "text": [
      "/Users/Nin/opt/anaconda3/envs/geo_env/lib/python3.10/site-packages/osmnx/geocoder.py:110: FutureWarning: The frame.append method is deprecated and will be removed from pandas in a future version. Use pandas.concat instead.\n",
      "  gdf = gdf.append(_geocode_query_to_gdf(q, wr, by_osmid))\n"
     ]
    }
   ],
   "source": [
    "place = \"Stockholms län, Sweden\"\n",
    "tags = {'highway': ['residential','primary','secondary','tertiary', 'motorway', 'trunk', 'unclassified']}\n",
    "roads = osmnx.geometries_from_place(place, tags=tags)"
   ]
  },
  {
   "cell_type": "markdown",
   "id": "4e5484af-ed4b-4a75-a785-c664123f3030",
   "metadata": {},
   "source": [
    "As a result I got a GeoDataFrame with 57k rows."
   ]
  },
  {
   "cell_type": "code",
   "execution_count": 8,
   "id": "16c1b200-4c8e-4586-ab08-1d4b828a9f15",
   "metadata": {},
   "outputs": [
    {
     "data": {
      "text/plain": [
       "geopandas.geodataframe.GeoDataFrame"
      ]
     },
     "execution_count": 8,
     "metadata": {},
     "output_type": "execute_result"
    }
   ],
   "source": [
    "type(roads)\n",
    "roads.shape"
   ]
  },
  {
   "cell_type": "code",
   "execution_count": 51,
   "id": "e7d559d5-3d99-42ee-9e4b-c6cbc5322fdc",
   "metadata": {},
   "outputs": [
    {
     "data": {
      "text/html": [
       "<div>\n",
       "<style scoped>\n",
       "    .dataframe tbody tr th:only-of-type {\n",
       "        vertical-align: middle;\n",
       "    }\n",
       "\n",
       "    .dataframe tbody tr th {\n",
       "        vertical-align: top;\n",
       "    }\n",
       "\n",
       "    .dataframe thead th {\n",
       "        text-align: right;\n",
       "    }\n",
       "</style>\n",
       "<table border=\"1\" class=\"dataframe\">\n",
       "  <thead>\n",
       "    <tr style=\"text-align: right;\">\n",
       "      <th></th>\n",
       "      <th></th>\n",
       "      <th>name</th>\n",
       "      <th>geometry</th>\n",
       "    </tr>\n",
       "    <tr>\n",
       "      <th>element_type</th>\n",
       "      <th>osmid</th>\n",
       "      <th></th>\n",
       "      <th></th>\n",
       "    </tr>\n",
       "  </thead>\n",
       "  <tbody>\n",
       "    <tr>\n",
       "      <th rowspan=\"5\" valign=\"top\">way</th>\n",
       "      <th>8214875</th>\n",
       "      <td>Skytten Hälls väg</td>\n",
       "      <td>LINESTRING (17.95571 58.90711, 17.95565 58.907...</td>\n",
       "    </tr>\n",
       "    <tr>\n",
       "      <th>8214892</th>\n",
       "      <td>Nynäsvägen</td>\n",
       "      <td>LINESTRING (17.95472 58.90876, 17.95461 58.908...</td>\n",
       "    </tr>\n",
       "    <tr>\n",
       "      <th>8214903</th>\n",
       "      <td>NaN</td>\n",
       "      <td>LINESTRING (17.95468 58.90696, 17.95548 58.907...</td>\n",
       "    </tr>\n",
       "    <tr>\n",
       "      <th>8214979</th>\n",
       "      <td>Alkärrsgatan</td>\n",
       "      <td>LINESTRING (17.94285 58.90429, 17.94290 58.904...</td>\n",
       "    </tr>\n",
       "    <tr>\n",
       "      <th>23322590</th>\n",
       "      <td>NaN</td>\n",
       "      <td>LINESTRING (17.95400 58.90927, 17.95406 58.909...</td>\n",
       "    </tr>\n",
       "  </tbody>\n",
       "</table>\n",
       "</div>"
      ],
      "text/plain": [
       "                                    name  \\\n",
       "element_type osmid                         \n",
       "way          8214875   Skytten Hälls väg   \n",
       "             8214892          Nynäsvägen   \n",
       "             8214903                 NaN   \n",
       "             8214979        Alkärrsgatan   \n",
       "             23322590                NaN   \n",
       "\n",
       "                                                                geometry  \n",
       "element_type osmid                                                        \n",
       "way          8214875   LINESTRING (17.95571 58.90711, 17.95565 58.907...  \n",
       "             8214892   LINESTRING (17.95472 58.90876, 17.95461 58.908...  \n",
       "             8214903   LINESTRING (17.95468 58.90696, 17.95548 58.907...  \n",
       "             8214979   LINESTRING (17.94285 58.90429, 17.94290 58.904...  \n",
       "             23322590  LINESTRING (17.95400 58.90927, 17.95406 58.909...  "
      ]
     },
     "execution_count": 51,
     "metadata": {},
     "output_type": "execute_result"
    }
   ],
   "source": [
    "# Select only relevant columns and view the first rows in the data frame\n",
    "roads_small = roads[['name','geometry']]\n",
    "roads_small.head()"
   ]
  },
  {
   "cell_type": "markdown",
   "id": "5170dc65-0a3d-406a-9f29-b4a1c09f6c6c",
   "metadata": {},
   "source": [
    "## 3. Classifying street names \n",
    "\n",
    "I would like to group streets into categories based on their type. For example, the ones that end with \"vägen\" or \"väg\" will be grouped into one category, the ones that end with \"gatan\" or \"gata\" into another category. For that I would need to check the end of the string.\n",
    "\n",
    "- Started with the endswith() method for series: str.endswith() `roads_small['name'].str.endswith(\"vägen\")`\n",
    "- Tested to write an if statement using that: \n",
    "\n",
    "`if roads_small['name'].str.endswith(\"vägen\"):`\n",
    "\n",
    "`    roads_small['category'] = 'vägen'`\n",
    "\n",
    "- Getting an error \"ValueError: The truth value of a Series is ambiguous\", which appears becaus `roads_small['name'].str.endswith(\"vägen\")` is a Series object containing both True and False values.\n",
    "- The solution for this error is described [here](https://www.learndatasci.com/solutions/python-valueerror-truth-value-series-ambiguous-use-empty-bool-item-any-or-all/). We need to use the boolean Series to subset the dataframe like so: `roads_small[roads_small['name'].str.endswith(\"vägen\")]`\n",
    "\n",
    "- Getting an error \"ValueError: Cannot mask with non-boolean array containing NA / NaN values\", which means that I need to remove the NaN values or ignore them somehow. [Found a solution here](https://stackoverflow.com/questions/28311655/ignoring-nans-with-str-contains)."
   ]
  },
  {
   "cell_type": "code",
   "execution_count": 29,
   "id": "d6243a7d-c5fd-47c1-bab9-86aad3e01e01",
   "metadata": {},
   "outputs": [
    {
     "data": {
      "text/html": [
       "<div>\n",
       "<style scoped>\n",
       "    .dataframe tbody tr th:only-of-type {\n",
       "        vertical-align: middle;\n",
       "    }\n",
       "\n",
       "    .dataframe tbody tr th {\n",
       "        vertical-align: top;\n",
       "    }\n",
       "\n",
       "    .dataframe thead th {\n",
       "        text-align: right;\n",
       "    }\n",
       "</style>\n",
       "<table border=\"1\" class=\"dataframe\">\n",
       "  <thead>\n",
       "    <tr style=\"text-align: right;\">\n",
       "      <th></th>\n",
       "      <th></th>\n",
       "      <th>name</th>\n",
       "      <th>geometry</th>\n",
       "    </tr>\n",
       "    <tr>\n",
       "      <th>element_type</th>\n",
       "      <th>osmid</th>\n",
       "      <th></th>\n",
       "      <th></th>\n",
       "    </tr>\n",
       "  </thead>\n",
       "  <tbody>\n",
       "    <tr>\n",
       "      <th rowspan=\"11\" valign=\"top\">way</th>\n",
       "      <th>1240</th>\n",
       "      <td>Klensmedsvägen</td>\n",
       "      <td>LINESTRING (17.99032 59.29686, 17.99052 59.296...</td>\n",
       "    </tr>\n",
       "    <tr>\n",
       "      <th>1241</th>\n",
       "      <td>Hyvelvägen</td>\n",
       "      <td>LINESTRING (17.99266 59.29664, 17.99222 59.296...</td>\n",
       "    </tr>\n",
       "    <tr>\n",
       "      <th>1242</th>\n",
       "      <td>Spikvägen</td>\n",
       "      <td>LINESTRING (17.99351 59.29639, 17.99298 59.295...</td>\n",
       "    </tr>\n",
       "    <tr>\n",
       "      <th>1243</th>\n",
       "      <td>Bultvägen</td>\n",
       "      <td>LINESTRING (17.99439 59.29611, 17.99429 59.295...</td>\n",
       "    </tr>\n",
       "    <tr>\n",
       "      <th>1246</th>\n",
       "      <td>Borrvägen</td>\n",
       "      <td>LINESTRING (17.99785 59.29484, 17.99751 59.294...</td>\n",
       "    </tr>\n",
       "    <tr>\n",
       "      <th>...</th>\n",
       "      <td>...</td>\n",
       "      <td>...</td>\n",
       "    </tr>\n",
       "    <tr>\n",
       "      <th>1040772612</th>\n",
       "      <td>Skogängsvägen</td>\n",
       "      <td>LINESTRING (17.90440 59.38263, 17.90384 59.38217)</td>\n",
       "    </tr>\n",
       "    <tr>\n",
       "      <th>1040772618</th>\n",
       "      <td>Skogängsvägen</td>\n",
       "      <td>LINESTRING (17.90431 59.38196, 17.90449 59.38193)</td>\n",
       "    </tr>\n",
       "    <tr>\n",
       "      <th>1044696341</th>\n",
       "      <td>Vårbergsvägen</td>\n",
       "      <td>LINESTRING (17.91125 59.27396, 17.90945 59.273...</td>\n",
       "    </tr>\n",
       "    <tr>\n",
       "      <th>1046497897</th>\n",
       "      <td>Rissnavägen</td>\n",
       "      <td>LINESTRING (17.91630 59.37930, 17.91635 59.379...</td>\n",
       "    </tr>\n",
       "    <tr>\n",
       "      <th>1046497898</th>\n",
       "      <td>Rissnavägen</td>\n",
       "      <td>LINESTRING (17.91444 59.37932, 17.91503 59.379...</td>\n",
       "    </tr>\n",
       "  </tbody>\n",
       "</table>\n",
       "<p>5374 rows × 2 columns</p>\n",
       "</div>"
      ],
      "text/plain": [
       "                                   name  \\\n",
       "element_type osmid                        \n",
       "way          1240        Klensmedsvägen   \n",
       "             1241            Hyvelvägen   \n",
       "             1242             Spikvägen   \n",
       "             1243             Bultvägen   \n",
       "             1246             Borrvägen   \n",
       "...                                 ...   \n",
       "             1040772612   Skogängsvägen   \n",
       "             1040772618   Skogängsvägen   \n",
       "             1044696341   Vårbergsvägen   \n",
       "             1046497897     Rissnavägen   \n",
       "             1046497898     Rissnavägen   \n",
       "\n",
       "                                                                  geometry  \n",
       "element_type osmid                                                          \n",
       "way          1240        LINESTRING (17.99032 59.29686, 17.99052 59.296...  \n",
       "             1241        LINESTRING (17.99266 59.29664, 17.99222 59.296...  \n",
       "             1242        LINESTRING (17.99351 59.29639, 17.99298 59.295...  \n",
       "             1243        LINESTRING (17.99439 59.29611, 17.99429 59.295...  \n",
       "             1246        LINESTRING (17.99785 59.29484, 17.99751 59.294...  \n",
       "...                                                                    ...  \n",
       "             1040772612  LINESTRING (17.90440 59.38263, 17.90384 59.38217)  \n",
       "             1040772618  LINESTRING (17.90431 59.38196, 17.90449 59.38193)  \n",
       "             1044696341  LINESTRING (17.91125 59.27396, 17.90945 59.273...  \n",
       "             1046497897  LINESTRING (17.91630 59.37930, 17.91635 59.379...  \n",
       "             1046497898  LINESTRING (17.91444 59.37932, 17.91503 59.379...  \n",
       "\n",
       "[5374 rows x 2 columns]"
      ]
     },
     "execution_count": 29,
     "metadata": {},
     "output_type": "execute_result"
    }
   ],
   "source": [
    "roads_small[roads_small['name'].str.endswith(\"vägen\", na=False)]"
   ]
  },
  {
   "cell_type": "markdown",
   "id": "681a9190-32e1-4d14-959d-72fbd4ac0e2a",
   "metadata": {},
   "source": [
    "To create conditional column I used numpy's select() method described in [this blog post](https://datagy.io/pandas-conditional-column/). The select() method requires a list of conditions and a list of corresponsing categories. First, making a small test:"
   ]
  },
  {
   "cell_type": "code",
   "execution_count": 30,
   "id": "16ecd1fc-d555-4577-88b7-32c76555ce4e",
   "metadata": {},
   "outputs": [],
   "source": [
    "import numpy as np"
   ]
  },
  {
   "cell_type": "code",
   "execution_count": null,
   "id": "66ed4be7-dcb0-48ec-88ae-eb74fec9ce16",
   "metadata": {},
   "outputs": [],
   "source": [
    "conditions = [roads_small['name'].str.endswith(\"vägen\", na=False), \n",
    "            roads_small['name'].str.endswith(\"gatan\", na=False)]\n",
    "\n",
    "values = [\"vägen\", \"gatan\"]\n",
    "\n",
    "roads_small['category'] = np.select(conditions, values)\n",
    "roads_small.head()"
   ]
  },
  {
   "cell_type": "markdown",
   "id": "ffa90e9d-19d4-4e11-a3f4-284464e94b9f",
   "metadata": {},
   "source": [
    "List of street types with in both definite and indefinite forms. This list will be used to create a list of conditions"
   ]
  },
  {
   "cell_type": "code",
   "execution_count": 52,
   "id": "0cebf2fa-8d4c-47c1-a300-6172a4da6108",
   "metadata": {},
   "outputs": [],
   "source": [
    "types = ['slingan','farten','fart','gången','gång','backen','backe','stigen','stig','höjden',\n",
    "          'höjd','spåret','spår','terrassen','terrass','hamnen','hamn','gatan','gata','leden',\n",
    "          'led','gränden','gränd','vägen','väg','länken','länk','stranden','strand','bron','bro',\n",
    "          'kajen','kaj','allén','allé','tunneln','tunnel','plan','torget','torg','platsen','plats']"
   ]
  },
  {
   "cell_type": "markdown",
   "id": "c4b5a32d-3af5-4fc8-9ceb-e17c73ea1261",
   "metadata": {},
   "source": [
    "List of street types with indefinite forms only that would make up category names. Most values repeat because the length of the two lists needs to be the same"
   ]
  },
  {
   "cell_type": "code",
   "execution_count": null,
   "id": "6a41fb02-490c-4253-ab4d-b9e1c40d91e3",
   "metadata": {},
   "outputs": [],
   "source": [
    "values = ['slinga','fart','fart','gång','gång','backe','backe','stig','stig','höjd',\n",
    "          'höjd','spår','spår','terrass','terrass','hamn','hamn','gata','gata','led',\n",
    "          'led','gränd','gränd','väg','väg','länk','länk','strand','strand','bro','bro',\n",
    "          'kaj','kaj','allé','allé','tunnel','tunnel','plan','torg','torg','plats','plats']"
   ]
  },
  {
   "cell_type": "markdown",
   "id": "c0293afd-5635-4e26-b883-da10e7028b3d",
   "metadata": {},
   "source": [
    "Using list comprehension I create a list of conditions"
   ]
  },
  {
   "cell_type": "code",
   "execution_count": 74,
   "id": "746fc5e0-e6f9-4cca-a405-a16300f3cc09",
   "metadata": {},
   "outputs": [],
   "source": [
    "conditions = [roads_small['name'].str.endswith(i, na=False) for i in types]"
   ]
  },
  {
   "cell_type": "markdown",
   "id": "c3989a05-d927-4e85-9c53-d74ad3548b34",
   "metadata": {},
   "source": [
    "Finally, I can use the numpy select() method to create the category column."
   ]
  },
  {
   "cell_type": "code",
   "execution_count": 54,
   "id": "619df154-4908-4e97-bcf4-0f94e134f829",
   "metadata": {},
   "outputs": [
    {
     "name": "stderr",
     "output_type": "stream",
     "text": [
      "/Users/Nin/opt/anaconda3/envs/geo_env/lib/python3.10/site-packages/geopandas/geodataframe.py:1351: SettingWithCopyWarning: \n",
      "A value is trying to be set on a copy of a slice from a DataFrame.\n",
      "Try using .loc[row_indexer,col_indexer] = value instead\n",
      "\n",
      "See the caveats in the documentation: https://pandas.pydata.org/pandas-docs/stable/user_guide/indexing.html#returning-a-view-versus-a-copy\n",
      "  super().__setitem__(key, value)\n"
     ]
    },
    {
     "data": {
      "text/html": [
       "<div>\n",
       "<style scoped>\n",
       "    .dataframe tbody tr th:only-of-type {\n",
       "        vertical-align: middle;\n",
       "    }\n",
       "\n",
       "    .dataframe tbody tr th {\n",
       "        vertical-align: top;\n",
       "    }\n",
       "\n",
       "    .dataframe thead th {\n",
       "        text-align: right;\n",
       "    }\n",
       "</style>\n",
       "<table border=\"1\" class=\"dataframe\">\n",
       "  <thead>\n",
       "    <tr style=\"text-align: right;\">\n",
       "      <th></th>\n",
       "      <th></th>\n",
       "      <th>name</th>\n",
       "      <th>geometry</th>\n",
       "      <th>category</th>\n",
       "    </tr>\n",
       "    <tr>\n",
       "      <th>element_type</th>\n",
       "      <th>osmid</th>\n",
       "      <th></th>\n",
       "      <th></th>\n",
       "      <th></th>\n",
       "    </tr>\n",
       "  </thead>\n",
       "  <tbody>\n",
       "    <tr>\n",
       "      <th rowspan=\"5\" valign=\"top\">way</th>\n",
       "      <th>8214875</th>\n",
       "      <td>Skytten Hälls väg</td>\n",
       "      <td>LINESTRING (17.95571 58.90711, 17.95565 58.907...</td>\n",
       "      <td>väg</td>\n",
       "    </tr>\n",
       "    <tr>\n",
       "      <th>8214892</th>\n",
       "      <td>Nynäsvägen</td>\n",
       "      <td>LINESTRING (17.95472 58.90876, 17.95461 58.908...</td>\n",
       "      <td>väg</td>\n",
       "    </tr>\n",
       "    <tr>\n",
       "      <th>8214903</th>\n",
       "      <td>NaN</td>\n",
       "      <td>LINESTRING (17.95468 58.90696, 17.95548 58.907...</td>\n",
       "      <td>0</td>\n",
       "    </tr>\n",
       "    <tr>\n",
       "      <th>8214979</th>\n",
       "      <td>Alkärrsgatan</td>\n",
       "      <td>LINESTRING (17.94285 58.90429, 17.94290 58.904...</td>\n",
       "      <td>gata</td>\n",
       "    </tr>\n",
       "    <tr>\n",
       "      <th>23322590</th>\n",
       "      <td>NaN</td>\n",
       "      <td>LINESTRING (17.95400 58.90927, 17.95406 58.909...</td>\n",
       "      <td>0</td>\n",
       "    </tr>\n",
       "  </tbody>\n",
       "</table>\n",
       "</div>"
      ],
      "text/plain": [
       "                                    name  \\\n",
       "element_type osmid                         \n",
       "way          8214875   Skytten Hälls väg   \n",
       "             8214892          Nynäsvägen   \n",
       "             8214903                 NaN   \n",
       "             8214979        Alkärrsgatan   \n",
       "             23322590                NaN   \n",
       "\n",
       "                                                                geometry  \\\n",
       "element_type osmid                                                         \n",
       "way          8214875   LINESTRING (17.95571 58.90711, 17.95565 58.907...   \n",
       "             8214892   LINESTRING (17.95472 58.90876, 17.95461 58.908...   \n",
       "             8214903   LINESTRING (17.95468 58.90696, 17.95548 58.907...   \n",
       "             8214979   LINESTRING (17.94285 58.90429, 17.94290 58.904...   \n",
       "             23322590  LINESTRING (17.95400 58.90927, 17.95406 58.909...   \n",
       "\n",
       "                      category  \n",
       "element_type osmid              \n",
       "way          8214875       väg  \n",
       "             8214892       väg  \n",
       "             8214903         0  \n",
       "             8214979      gata  \n",
       "             23322590        0  "
      ]
     },
     "execution_count": 58,
     "metadata": {},
     "output_type": "execute_result"
    }
   ],
   "source": [
    "roads_small['category'] = np.select(conditions, values_indef)\n",
    "roads_small.head()"
   ]
  },
  {
   "cell_type": "markdown",
   "id": "86c73c89-0cee-4836-bc61-85319eb2b55c",
   "metadata": {},
   "source": [
    "To quickly check the data I counted the number of values in each category. "
   ]
  },
  {
   "cell_type": "code",
   "execution_count": 75,
   "id": "eac152db-851f-4445-bb34-2cbfa3e01adb",
   "metadata": {},
   "outputs": [
    {
     "data": {
      "text/plain": [
       "väg        31794\n",
       "0          14206\n",
       "gata        4514\n",
       "stig        1677\n",
       "led         1354\n",
       "gränd       1228\n",
       "backe       1014\n",
       "allé         298\n",
       "plan         275\n",
       "slinga       268\n",
       "bro          220\n",
       "länk         113\n",
       "tunnel       103\n",
       "torg          93\n",
       "strand        78\n",
       "höjd          62\n",
       "gång          52\n",
       "fart          49\n",
       "hamn          30\n",
       "kaj           21\n",
       "plats         18\n",
       "terrass       15\n",
       "spår           4\n",
       "Name: category, dtype: int64"
      ]
     },
     "execution_count": 75,
     "metadata": {},
     "output_type": "execute_result"
    }
   ],
   "source": [
    "roads_small['category'].value_counts()"
   ]
  },
  {
   "cell_type": "markdown",
   "id": "63349928-e26f-4eb2-86f1-c6069728ca24",
   "metadata": {},
   "source": [
    "To continue using the data in Mapbox Studion, I saved it as a geojson"
   ]
  },
  {
   "cell_type": "code",
   "execution_count": 60,
   "id": "49ca6245-ce28-46dc-8fb4-c9760ecab112",
   "metadata": {},
   "outputs": [
    {
     "name": "stderr",
     "output_type": "stream",
     "text": [
      "/Users/Nin/opt/anaconda3/envs/geo_env/lib/python3.10/site-packages/geopandas/io/file.py:389: DeprecationWarning: distutils Version classes are deprecated. Use packaging.version instead.\n",
      "  if LooseVersion(gdal_version) >= LooseVersion(\"3.0.0\") and crs:\n"
     ]
    }
   ],
   "source": [
    "roads_small.to_file(\"stockholm_roads.geojson\", driver='GeoJSON')"
   ]
  },
  {
   "cell_type": "markdown",
   "id": "fb4cf6b5-da87-421f-8163-7f9478669b19",
   "metadata": {},
   "source": [
    "## 4. Visualizing the data\n",
    "\n",
    "I used Mapbox Studio to visualize the data - uploaded geojson as a new component and added conditional line color. \n",
    "You can view the [final result here](https://api.mapbox.com/styles/v1/ninlin/cl1kgmmef001w14o6ggqdgveu.html?title=view&access_token=pk.eyJ1IjoibmlubGluIiwiYSI6ImNqanR0Zzc4bzI5b2Ezd2xlb2ZmbzdrOHMifQ.nhMfjVcApf7oZVzhlMnRLA&zoomwheel=true&fresh=true#9.52/59.3347/18.0604)"
   ]
  }
 ],
 "metadata": {
  "kernelspec": {
   "display_name": "geo_env",
   "language": "python",
   "name": "geo_env"
  },
  "language_info": {
   "codemirror_mode": {
    "name": "ipython",
    "version": 3
   },
   "file_extension": ".py",
   "mimetype": "text/x-python",
   "name": "python",
   "nbconvert_exporter": "python",
   "pygments_lexer": "ipython3",
   "version": "3.10.4"
  }
 },
 "nbformat": 4,
 "nbformat_minor": 5
}
